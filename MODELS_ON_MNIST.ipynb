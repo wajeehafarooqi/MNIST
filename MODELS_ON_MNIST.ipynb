{
  "nbformat": 4,
  "nbformat_minor": 0,
  "metadata": {
    "colab": {
      "provenance": [],
      "authorship_tag": "ABX9TyMkm0tmsa3bFtK6RGokIbFU",
      "include_colab_link": true
    },
    "kernelspec": {
      "name": "python3",
      "display_name": "Python 3"
    },
    "language_info": {
      "name": "python"
    }
  },
  "cells": [
    {
      "cell_type": "markdown",
      "metadata": {
        "id": "view-in-github",
        "colab_type": "text"
      },
      "source": [
        "<a href=\"https://colab.research.google.com/github/wajeehafarooqi/MNIST/blob/main/MODELS_ON_MNIST.ipynb\" target=\"_parent\"><img src=\"https://colab.research.google.com/assets/colab-badge.svg\" alt=\"Open In Colab\"/></a>"
      ]
    },
    {
      "cell_type": "code",
      "execution_count": null,
      "metadata": {
        "id": "aGqWxf4wGuTo"
      },
      "outputs": [],
      "source": [
        "from sklearn.datasets import load_digits\n",
        "import pandas as pd\n",
        "import matplotlib.pyplot as plt\n",
        "%matplotlib inline"
      ]
    },
    {
      "cell_type": "markdown",
      "source": [
        "#**LOADING MNIST DATA FROM SKLEARN**"
      ],
      "metadata": {
        "id": "K-Fct9X2zUa3"
      }
    },
    {
      "cell_type": "code",
      "source": [
        "mnist = load_digits() # loading data"
      ],
      "metadata": {
        "id": "-2WFuGmKIMDJ"
      },
      "execution_count": null,
      "outputs": []
    },
    {
      "cell_type": "markdown",
      "source": [
        "##DIVING DATA INTO DEPENDENT(X) AND INDEPENDENT(Y) VARIABLES"
      ],
      "metadata": {
        "id": "kXFGpuFBzsWa"
      }
    },
    {
      "cell_type": "code",
      "source": [
        "X = mnist.images"
      ],
      "metadata": {
        "id": "7h9QjFTFrkWR"
      },
      "execution_count": null,
      "outputs": []
    },
    {
      "cell_type": "code",
      "source": [
        "y = mnist.target"
      ],
      "metadata": {
        "id": "2HepGDy9rqV1"
      },
      "execution_count": null,
      "outputs": []
    },
    {
      "cell_type": "code",
      "source": [
        "X.shape"
      ],
      "metadata": {
        "colab": {
          "base_uri": "https://localhost:8080/"
        },
        "id": "hcRjKzn1run6",
        "outputId": "60bcf63d-df30-4f41-cc71-9f82e04a4895"
      },
      "execution_count": null,
      "outputs": [
        {
          "output_type": "execute_result",
          "data": {
            "text/plain": [
              "(1797, 8, 8)"
            ]
          },
          "metadata": {},
          "execution_count": 6
        }
      ]
    },
    {
      "cell_type": "code",
      "source": [
        "y.shape"
      ],
      "metadata": {
        "colab": {
          "base_uri": "https://localhost:8080/"
        },
        "id": "AWj34Ifwr3VP",
        "outputId": "53de4f2f-8639-4c2a-c8dc-48ff2028cad2"
      },
      "execution_count": null,
      "outputs": [
        {
          "output_type": "execute_result",
          "data": {
            "text/plain": [
              "(1797,)"
            ]
          },
          "metadata": {},
          "execution_count": 7
        }
      ]
    },
    {
      "cell_type": "markdown",
      "source": [
        "#SHOWING DATA "
      ],
      "metadata": {
        "id": "OdDewxirz4Vs"
      }
    },
    {
      "cell_type": "code",
      "source": [
        "fig, axes = plt.subplots(2, 10, figsize=(16, 6))\n",
        "for i in range(20):\n",
        "  axes[i//10, i %10].imshow(mnist.images[i], cmap='gray')\n",
        "  axes[i//10, i %10].axis('off')\n",
        "  axes[i//10, i %10].set_title(f\"target: {mnist.target[i]}\")\n",
        "plt.tight_layout()"
      ],
      "metadata": {
        "id": "NEp6P_sQIrzD",
        "colab": {
          "base_uri": "https://localhost:8080/",
          "height": 333
        },
        "outputId": "2900165a-50d1-4b93-882f-9a9c7d60b8ad"
      },
      "execution_count": null,
      "outputs": [
        {
          "output_type": "display_data",
          "data": {
            "text/plain": [
              "<Figure size 1152x432 with 20 Axes>"
            ],
            "image/png": "[encoded data removed]"
          },
          "metadata": {
            "needs_background": "light"
          }
        }
      ]
    },
    {
      "cell_type": "markdown",
      "source": [
        "##Flatten independent variable X from 8 X 8 matrix to 1D"
      ],
      "metadata": {
        "id": "5OGDUA3I0Cta"
      }
    },
    {
      "cell_type": "code",
      "source": [
        "#flatten \n",
        "X_flatten = X.reshape(len(X), 8*8)"
      ],
      "metadata": {
        "id": "gGjOCNogsyBR"
      },
      "execution_count": null,
      "outputs": []
    },
    {
      "cell_type": "code",
      "source": [
        "X_flatten.shape"
      ],
      "metadata": {
        "colab": {
          "base_uri": "https://localhost:8080/"
        },
        "id": "xQHDyzATuZ7x",
        "outputId": "fbb03e6d-3d1e-4480-c685-cb4be01b72e8"
      },
      "execution_count": null,
      "outputs": [
        {
          "output_type": "execute_result",
          "data": {
            "text/plain": [
              "(1797, 64)"
            ]
          },
          "metadata": {},
          "execution_count": 9
        }
      ]
    },
    {
      "cell_type": "code",
      "source": [
        "from sklearn.model_selection import train_test_split\n",
        "X_train, X_test, y_train, y_test = train_test_split(X_flatten, y, test_size=0.33, random_state=42)          #input flatten X\n",
        "print(X_train.shape, X_test.shape, y_train.shape, y_test.shape)"
      ],
      "metadata": {
        "colab": {
          "base_uri": "https://localhost:8080/"
        },
        "id": "VvZhW4iw3LUl",
        "outputId": "edf82d4c-a2d4-463d-871c-33730bd5c429"
      },
      "execution_count": null,
      "outputs": [
        {
          "output_type": "stream",
          "name": "stdout",
          "text": [
            "(1203, 64) (594, 64) (1203,) (594,)\n"
          ]
        }
      ]
    },
    {
      "cell_type": "markdown",
      "source": [
        "#**KNN-MODEL** "
      ],
      "metadata": {
        "id": "yUoHK1-2c4p5"
      }
    },
    {
      "cell_type": "code",
      "source": [
        "from sklearn.neighbors import KNeighborsClassifier\n",
        "knn = KNeighborsClassifier(n_neighbors=4,n_jobs=-1)\n"
      ],
      "metadata": {
        "id": "DZ-7hVcVIp_A"
      },
      "execution_count": null,
      "outputs": []
    },
    {
      "cell_type": "markdown",
      "source": [
        "###TRAIN-MODEL"
      ],
      "metadata": {
        "id": "EgzVZDoTdPKr"
      }
    },
    {
      "cell_type": "code",
      "source": [
        "knn.fit(X_train,y_train)"
      ],
      "metadata": {
        "colab": {
          "base_uri": "https://localhost:8080/"
        },
        "id": "DB38awAy27Q8",
        "outputId": "1fe35e81-5013-4fbe-ce22-1c2c44abc8c8"
      },
      "execution_count": null,
      "outputs": [
        {
          "output_type": "execute_result",
          "data": {
            "text/plain": [
              "KNeighborsClassifier(n_jobs=-1, n_neighbors=4)"
            ]
          },
          "metadata": {},
          "execution_count": 34
        }
      ]
    },
    {
      "cell_type": "markdown",
      "source": [
        "###TEST-MODEL"
      ],
      "metadata": {
        "id": "pOm99JMOdV3D"
      }
    },
    {
      "cell_type": "code",
      "source": [
        "y_predict = knn.predict(X_test)"
      ],
      "metadata": {
        "id": "_95DRL_i4fcF"
      },
      "execution_count": null,
      "outputs": []
    },
    {
      "cell_type": "markdown",
      "source": [
        "##REPORT"
      ],
      "metadata": {
        "id": "geCpkDTp08cF"
      }
    },
    {
      "cell_type": "code",
      "source": [
        "from sklearn import metrics\n",
        "from sklearn.metrics import classification_report\n",
        "print (classification_report(y_test,knn.predict(X_test)))\n"
      ],
      "metadata": {
        "id": "6lfUwO1W7IGK",
        "colab": {
          "base_uri": "https://localhost:8080/"
        },
        "outputId": "8569f1f9-1d73-4f26-a7d8-0db53df37f6f"
      },
      "execution_count": null,
      "outputs": [
        {
          "output_type": "stream",
          "name": "stdout",
          "text": [
            "              precision    recall  f1-score   support\n",
            "\n",
            "           0       1.00      1.00      1.00        55\n",
            "           1       0.95      1.00      0.97        55\n",
            "           2       1.00      1.00      1.00        52\n",
            "           3       0.98      1.00      0.99        56\n",
            "           4       0.98      0.97      0.98        64\n",
            "           5       0.99      1.00      0.99        73\n",
            "           6       1.00      1.00      1.00        57\n",
            "           7       1.00      1.00      1.00        62\n",
            "           8       0.98      0.98      0.98        52\n",
            "           9       1.00      0.94      0.97        68\n",
            "\n",
            "    accuracy                           0.99       594\n",
            "   macro avg       0.99      0.99      0.99       594\n",
            "weighted avg       0.99      0.99      0.99       594\n",
            "\n"
          ]
        }
      ]
    },
    {
      "cell_type": "markdown",
      "source": [
        "#**NAIVE_BAYES**"
      ],
      "metadata": {
        "id": "Ee9EXc3k0k7O"
      }
    },
    {
      "cell_type": "code",
      "source": [
        "from sklearn.naive_bayes import GaussianNB\n",
        "gnb = GaussianNB()"
      ],
      "metadata": {
        "id": "8I3ZQkF67kpJ"
      },
      "execution_count": null,
      "outputs": []
    },
    {
      "cell_type": "markdown",
      "source": [
        "###TRAIN"
      ],
      "metadata": {
        "id": "uYixgerRfT2x"
      }
    },
    {
      "cell_type": "code",
      "source": [
        "gnb.fit(X_train,y_train)"
      ],
      "metadata": {
        "colab": {
          "base_uri": "https://localhost:8080/"
        },
        "id": "4DH7P9hOfWL-",
        "outputId": "73c5641e-db09-4b7a-cd35-77bd800a2b02"
      },
      "execution_count": null,
      "outputs": [
        {
          "output_type": "execute_result",
          "data": {
            "text/plain": [
              "GaussianNB()"
            ]
          },
          "metadata": {},
          "execution_count": 38
        }
      ]
    },
    {
      "cell_type": "markdown",
      "source": [
        "##TEST"
      ],
      "metadata": {
        "id": "ANk_Zhqj0qTh"
      }
    },
    {
      "cell_type": "code",
      "source": [
        "gnb.predict(X_test)"
      ],
      "metadata": {
        "colab": {
          "base_uri": "https://localhost:8080/"
        },
        "id": "fwvg8KT7fdPe",
        "outputId": "1ef88327-015f-4ec8-cf19-1644916360ed"
      },
      "execution_count": null,
      "outputs": [
        {
          "output_type": "execute_result",
          "data": {
            "text/plain": [
              "array([6, 5, 3, 7, 2, 2, 5, 8, 5, 5, 1, 1, 7, 0, 4, 8, 3, 7, 8, 8, 4, 3,\n",
              "       9, 7, 5, 6, 3, 5, 6, 3, 4, 9, 1, 4, 4, 6, 9, 4, 7, 6, 6, 9, 8, 3,\n",
              "       6, 1, 3, 0, 6, 5, 7, 1, 2, 5, 6, 0, 9, 0, 0, 1, 7, 4, 5, 8, 4, 5,\n",
              "       7, 0, 7, 5, 9, 5, 5, 7, 7, 0, 4, 5, 5, 5, 9, 0, 2, 3, 8, 0, 6, 4,\n",
              "       4, 9, 1, 2, 8, 3, 5, 2, 5, 0, 4, 7, 4, 3, 5, 3, 1, 8, 5, 7, 4, 2,\n",
              "       7, 7, 7, 6, 1, 9, 8, 7, 8, 7, 2, 6, 9, 4, 5, 7, 8, 7, 5, 8, 5, 5,\n",
              "       7, 7, 0, 6, 6, 4, 2, 8, 0, 9, 4, 6, 8, 9, 6, 9, 0, 5, 5, 6, 6, 0,\n",
              "       6, 4, 2, 3, 3, 7, 7, 2, 5, 0, 4, 5, 8, 6, 5, 7, 9, 8, 4, 8, 1, 8,\n",
              "       7, 7, 5, 8, 3, 9, 8, 0, 3, 8, 2, 5, 6, 9, 9, 4, 1, 5, 4, 2, 9, 6,\n",
              "       4, 8, 5, 8, 5, 7, 8, 9, 4, 8, 1, 5, 4, 4, 9, 6, 8, 8, 6, 0, 4, 5,\n",
              "       8, 7, 4, 6, 4, 5, 6, 0, 3, 2, 3, 6, 7, 9, 5, 1, 4, 7, 6, 8, 8, 5,\n",
              "       5, 1, 5, 1, 8, 8, 7, 5, 7, 6, 2, 2, 2, 3, 4, 8, 7, 8, 6, 0, 8, 7,\n",
              "       7, 0, 1, 0, 4, 5, 8, 5, 3, 6, 0, 4, 1, 0, 0, 3, 6, 5, 9, 7, 3, 5,\n",
              "       5, 9, 9, 7, 5, 3, 3, 8, 0, 5, 8, 3, 4, 0, 2, 7, 6, 4, 3, 7, 5, 0,\n",
              "       5, 5, 1, 3, 1, 4, 8, 1, 7, 0, 8, 7, 8, 8, 8, 8, 7, 0, 6, 7, 8, 8,\n",
              "       5, 1, 8, 4, 5, 8, 7, 9, 8, 6, 0, 6, 6, 0, 7, 9, 8, 9, 5, 2, 7, 7,\n",
              "       9, 8, 7, 4, 3, 8, 3, 5, 6, 0, 0, 3, 0, 5, 0, 0, 4, 1, 2, 8, 6, 5,\n",
              "       7, 6, 3, 5, 8, 8, 4, 2, 5, 8, 9, 8, 8, 5, 0, 6, 3, 3, 7, 1, 6, 4,\n",
              "       1, 8, 1, 8, 5, 4, 7, 4, 8, 3, 4, 0, 5, 1, 9, 4, 7, 7, 6, 8, 7, 0,\n",
              "       5, 9, 7, 5, 9, 7, 4, 8, 2, 9, 0, 7, 5, 8, 3, 6, 3, 6, 6, 9, 5, 0,\n",
              "       1, 5, 7, 8, 3, 9, 6, 2, 6, 5, 5, 5, 0, 8, 7, 3, 7, 0, 2, 2, 3, 5,\n",
              "       8, 7, 3, 6, 5, 8, 7, 2, 5, 6, 8, 0, 7, 1, 1, 9, 6, 1, 8, 0, 0, 8,\n",
              "       9, 8, 7, 9, 2, 7, 7, 1, 3, 5, 4, 6, 7, 2, 1, 7, 8, 7, 6, 9, 2, 0,\n",
              "       4, 4, 8, 8, 7, 9, 8, 1, 7, 8, 8, 5, 1, 7, 0, 0, 1, 2, 6, 9, 4, 5,\n",
              "       9, 0, 6, 7, 7, 9, 5, 4, 7, 0, 7, 6, 8, 7, 6, 4, 6, 2, 8, 7, 5, 9,\n",
              "       0, 5, 9, 6, 6, 1, 9, 1, 2, 9, 3, 9, 7, 4, 8, 5, 8, 9, 7, 7, 6, 8,\n",
              "       1, 9, 5, 7, 9, 5, 4, 8, 7, 1, 8, 2, 0, 8, 7, 7, 8, 8, 9, 4, 9, 0])"
            ]
          },
          "metadata": {},
          "execution_count": 39
        }
      ]
    },
    {
      "cell_type": "markdown",
      "source": [
        "##REPORT"
      ],
      "metadata": {
        "id": "dY8E84Co0t4x"
      }
    },
    {
      "cell_type": "code",
      "source": [
        "from sklearn import metrics\n",
        "from sklearn.metrics import classification_report\n",
        "print (classification_report(y_test,gnb.predict(X_test)))\n"
      ],
      "metadata": {
        "colab": {
          "base_uri": "https://localhost:8080/"
        },
        "id": "R5-Lr72Zfp9r",
        "outputId": "89558696-705f-4177-ceb9-96e6adf23c0c"
      },
      "execution_count": null,
      "outputs": [
        {
          "output_type": "stream",
          "name": "stdout",
          "text": [
            "              precision    recall  f1-score   support\n",
            "\n",
            "           0       0.98      0.96      0.97        55\n",
            "           1       0.90      0.64      0.74        55\n",
            "           2       0.85      0.54      0.66        52\n",
            "           3       0.95      0.70      0.80        56\n",
            "           4       0.98      0.84      0.91        64\n",
            "           5       0.78      0.89      0.83        73\n",
            "           6       0.90      0.96      0.93        57\n",
            "           7       0.71      0.98      0.82        62\n",
            "           8       0.54      0.92      0.68        52\n",
            "           9       0.89      0.69      0.78        68\n",
            "\n",
            "    accuracy                           0.82       594\n",
            "   macro avg       0.85      0.81      0.81       594\n",
            "weighted avg       0.85      0.82      0.82       594\n",
            "\n"
          ]
        }
      ]
    },
    {
      "cell_type": "markdown",
      "source": [
        "#**DECISION_TREE**"
      ],
      "metadata": {
        "id": "heWou4XAfwGl"
      }
    },
    {
      "cell_type": "code",
      "source": [
        "from sklearn.tree import DecisionTreeClassifier\n",
        "model = DecisionTreeClassifier(criterion=\"entropy\", max_depth = 4)"
      ],
      "metadata": {
        "id": "t_ZhyNrdf1bg"
      },
      "execution_count": null,
      "outputs": []
    },
    {
      "cell_type": "code",
      "source": [
        "model.fit(X_train,y_train)"
      ],
      "metadata": {
        "colab": {
          "base_uri": "https://localhost:8080/"
        },
        "id": "W6-Lgml3gDOZ",
        "outputId": "214caa0f-4862-40cc-d1e1-1bbf5d94fc4f"
      },
      "execution_count": null,
      "outputs": [
        {
          "output_type": "execute_result",
          "data": {
            "text/plain": [
              "DecisionTreeClassifier(criterion='entropy', max_depth=4)"
            ]
          },
          "metadata": {},
          "execution_count": 42
        }
      ]
    },
    {
      "cell_type": "markdown",
      "source": [
        "##TEST"
      ],
      "metadata": {
        "id": "icUrO-i81Gcn"
      }
    },
    {
      "cell_type": "code",
      "source": [
        "model.predict(X_test)"
      ],
      "metadata": {
        "colab": {
          "base_uri": "https://localhost:8080/"
        },
        "id": "BuUMebXHgJbM",
        "outputId": "c9d3b98c-ce7f-4f81-acb1-6a4742ad5237"
      },
      "execution_count": null,
      "outputs": [
        {
          "output_type": "execute_result",
          "data": {
            "text/plain": [
              "array([6, 9, 3, 7, 6, 2, 2, 3, 5, 7, 1, 9, 4, 0, 4, 8, 3, 7, 2, 8, 4, 3,\n",
              "       9, 4, 2, 6, 3, 2, 6, 4, 4, 9, 3, 4, 2, 6, 9, 4, 7, 6, 6, 9, 4, 4,\n",
              "       6, 1, 3, 0, 6, 5, 5, 1, 5, 5, 6, 0, 3, 0, 0, 1, 5, 4, 5, 2, 4, 5,\n",
              "       4, 0, 4, 5, 9, 5, 5, 4, 7, 0, 4, 2, 5, 9, 9, 0, 2, 9, 8, 0, 6, 4,\n",
              "       4, 9, 1, 2, 8, 3, 5, 7, 9, 4, 2, 4, 4, 3, 5, 3, 9, 1, 5, 9, 4, 2,\n",
              "       9, 4, 4, 4, 1, 9, 8, 7, 8, 4, 2, 6, 9, 5, 0, 4, 5, 4, 5, 8, 4, 5,\n",
              "       7, 9, 0, 6, 6, 1, 2, 8, 0, 9, 4, 6, 9, 9, 6, 9, 0, 5, 5, 6, 6, 0,\n",
              "       6, 4, 3, 3, 3, 7, 4, 6, 9, 0, 4, 5, 2, 6, 5, 7, 9, 8, 4, 8, 8, 3,\n",
              "       7, 7, 2, 2, 3, 9, 8, 0, 3, 8, 1, 5, 6, 9, 9, 8, 4, 6, 9, 8, 3, 6,\n",
              "       1, 8, 5, 9, 5, 7, 8, 9, 4, 8, 1, 5, 4, 4, 9, 6, 8, 8, 6, 0, 5, 2,\n",
              "       8, 7, 4, 6, 4, 4, 6, 4, 9, 2, 3, 6, 4, 9, 5, 3, 4, 4, 6, 5, 8, 5,\n",
              "       5, 8, 4, 2, 8, 8, 9, 5, 7, 4, 2, 2, 2, 3, 4, 2, 5, 3, 6, 0, 9, 4,\n",
              "       7, 0, 1, 0, 4, 5, 8, 5, 3, 6, 0, 4, 1, 0, 0, 4, 6, 5, 9, 7, 3, 5,\n",
              "       5, 9, 9, 8, 5, 3, 3, 8, 0, 5, 8, 3, 4, 0, 2, 7, 6, 4, 3, 4, 5, 0,\n",
              "       5, 7, 3, 3, 9, 4, 2, 8, 4, 0, 8, 5, 6, 8, 2, 8, 7, 0, 6, 4, 8, 2,\n",
              "       5, 1, 8, 1, 5, 8, 9, 9, 8, 4, 0, 1, 8, 0, 5, 9, 8, 9, 5, 2, 7, 4,\n",
              "       9, 2, 7, 4, 3, 8, 4, 5, 6, 0, 0, 3, 0, 5, 0, 0, 4, 1, 6, 8, 4, 5,\n",
              "       9, 6, 3, 8, 8, 8, 4, 2, 3, 2, 9, 8, 8, 4, 0, 6, 3, 3, 4, 4, 4, 5,\n",
              "       2, 2, 9, 8, 6, 4, 9, 4, 2, 3, 4, 0, 5, 9, 9, 4, 2, 7, 6, 3, 1, 0,\n",
              "       5, 9, 7, 1, 9, 7, 4, 2, 2, 9, 0, 7, 5, 8, 3, 6, 9, 9, 6, 9, 5, 0,\n",
              "       1, 5, 5, 8, 3, 9, 6, 2, 6, 5, 4, 2, 0, 8, 7, 3, 7, 0, 2, 6, 3, 5,\n",
              "       2, 4, 3, 6, 5, 9, 9, 8, 7, 6, 3, 0, 7, 2, 1, 9, 6, 9, 8, 0, 0, 2,\n",
              "       9, 9, 7, 2, 5, 7, 7, 1, 3, 5, 4, 6, 8, 2, 3, 8, 8, 7, 6, 9, 2, 0,\n",
              "       4, 9, 8, 8, 7, 9, 4, 1, 7, 8, 8, 5, 5, 4, 0, 0, 3, 2, 6, 9, 4, 4,\n",
              "       2, 0, 6, 7, 7, 9, 5, 4, 4, 0, 7, 6, 8, 7, 1, 1, 6, 6, 2, 7, 5, 9,\n",
              "       0, 5, 9, 6, 6, 1, 9, 1, 2, 9, 2, 9, 7, 7, 8, 5, 5, 9, 7, 7, 6, 2,\n",
              "       9, 3, 5, 2, 9, 5, 9, 8, 7, 1, 8, 2, 4, 8, 7, 5, 8, 8, 9, 4, 9, 0])"
            ]
          },
          "metadata": {},
          "execution_count": 23
        }
      ]
    },
    {
      "cell_type": "markdown",
      "source": [
        "##REPORT"
      ],
      "metadata": {
        "id": "8Ji5IYtx1JW8"
      }
    },
    {
      "cell_type": "code",
      "source": [
        "from sklearn import metrics\n",
        "from sklearn.metrics import classification_report\n",
        "print (classification_report(y_test,model.predict(X_test)))"
      ],
      "metadata": {
        "colab": {
          "base_uri": "https://localhost:8080/"
        },
        "id": "exCNUefsgPA1",
        "outputId": "dd578ada-fbde-4d48-c415-0d30d5f420b5"
      },
      "execution_count": null,
      "outputs": [
        {
          "output_type": "stream",
          "name": "stdout",
          "text": [
            "              precision    recall  f1-score   support\n",
            "\n",
            "           0       1.00      0.95      0.97        55\n",
            "           1       0.64      0.33      0.43        55\n",
            "           2       0.51      0.54      0.52        52\n",
            "           3       0.83      0.71      0.77        56\n",
            "           4       0.58      0.78      0.67        64\n",
            "           5       0.82      0.82      0.82        73\n",
            "           6       0.88      0.93      0.91        57\n",
            "           7       0.79      0.60      0.68        62\n",
            "           8       0.59      0.75      0.66        52\n",
            "           9       0.73      0.85      0.79        68\n",
            "\n",
            "    accuracy                           0.73       594\n",
            "   macro avg       0.74      0.73      0.72       594\n",
            "weighted avg       0.74      0.73      0.73       594\n",
            "\n"
          ]
        }
      ]
    },
    {
      "cell_type": "markdown",
      "source": [
        "#N**EURAL_NETWORK**"
      ],
      "metadata": {
        "id": "UiP03C4-gk5W"
      }
    },
    {
      "cell_type": "code",
      "source": [
        "from keras import Sequential\n",
        "from keras.layers import Flatten, Dense\n",
        "NN = Sequential()"
      ],
      "metadata": {
        "id": "JRrPa7OOgpb7"
      },
      "execution_count": null,
      "outputs": []
    },
    {
      "cell_type": "markdown",
      "source": [
        "##TRAIN AND TEST SPLIT"
      ],
      "metadata": {
        "id": "8ucqlOXk1OtK"
      }
    },
    {
      "cell_type": "code",
      "source": [
        "from sklearn.model_selection import train_test_split\n",
        "X_train, X_test, y_train, y_test = train_test_split(X, y, test_size=0.33, random_state=42) # X with 8X8 matrix\n",
        "print(X_train.shape, X_test.shape, y_train.shape, y_test.shape)"
      ],
      "metadata": {
        "colab": {
          "base_uri": "https://localhost:8080/"
        },
        "id": "D7XUYcRKwm76",
        "outputId": "7e31fe15-4f90-4032-ce85-c6d3e33b1f24"
      },
      "execution_count": null,
      "outputs": [
        {
          "output_type": "stream",
          "name": "stdout",
          "text": [
            "(1203, 8, 8) (594, 8, 8) (1203,) (594,)\n"
          ]
        }
      ]
    },
    {
      "cell_type": "code",
      "source": [
        "X_train = X_train/255\n",
        "X_test = X_test/255"
      ],
      "metadata": {
        "id": "8VgJ4AM-v1qy"
      },
      "execution_count": null,
      "outputs": []
    },
    {
      "cell_type": "code",
      "source": [
        "NN.add(Flatten(input_shape=(8,8))) ##make the first layer\n",
        "NN.add(Dense(128,activation='relu'))\n",
        "NN.add(Dense(10,activation='softmax'))"
      ],
      "metadata": {
        "id": "TIfbPyEyg0me"
      },
      "execution_count": null,
      "outputs": []
    },
    {
      "cell_type": "code",
      "source": [
        "NN.summary()"
      ],
      "metadata": {
        "colab": {
          "base_uri": "https://localhost:8080/"
        },
        "id": "tSewEwdzhPhI",
        "outputId": "c2184b86-f6a6-49e4-9690-6b96adbbd7b7"
      },
      "execution_count": null,
      "outputs": [
        {
          "output_type": "stream",
          "name": "stdout",
          "text": [
            "Model: \"sequential\"\n",
            "_________________________________________________________________\n",
            " Layer (type)                Output Shape              Param #   \n",
            "=================================================================\n",
            " flatten (Flatten)           (None, 64)                0         \n",
            "                                                                 \n",
            " dense (Dense)               (None, 128)               8320      \n",
            "                                                                 \n",
            " dense_1 (Dense)             (None, 10)                1290      \n",
            "                                                                 \n",
            "=================================================================\n",
            "Total params: 9,610\n",
            "Trainable params: 9,610\n",
            "Non-trainable params: 0\n",
            "_________________________________________________________________\n"
          ]
        }
      ]
    },
    {
      "cell_type": "code",
      "source": [
        "NN.compile(optimizer='Adam',loss='sparse_categorical_crossentropy',metrics=['accuracy'])"
      ],
      "metadata": {
        "id": "z3-A1eyAhXFe"
      },
      "execution_count": null,
      "outputs": []
    },
    {
      "cell_type": "code",
      "source": [
        "history= NN.fit(X_train,y_train,batch_size=4,epochs=20,verbose=1,validation_split=0.2)"
      ],
      "metadata": {
        "colab": {
          "base_uri": "https://localhost:8080/"
        },
        "id": "YYbtnCT6hcIu",
        "outputId": "02abd68d-9260-4b02-a8f0-5c446ae5954e"
      },
      "execution_count": null,
      "outputs": [
        {
          "output_type": "stream",
          "name": "stdout",
          "text": [
            "Epoch 1/20\n",
            "241/241 [==============================] - 1s 2ms/step - loss: 2.2134 - accuracy: 0.4116 - val_loss: 2.0793 - val_accuracy: 0.5851\n",
            "Epoch 2/20\n",
            "241/241 [==============================] - 0s 2ms/step - loss: 1.8453 - accuracy: 0.7277 - val_loss: 1.6005 - val_accuracy: 0.7593\n",
            "Epoch 3/20\n",
            "241/241 [==============================] - 0s 2ms/step - loss: 1.3497 - accuracy: 0.8108 - val_loss: 1.1412 - val_accuracy: 0.8257\n",
            "Epoch 4/20\n",
            "241/241 [==============================] - 0s 2ms/step - loss: 0.9728 - accuracy: 0.8441 - val_loss: 0.8618 - val_accuracy: 0.8382\n",
            "Epoch 5/20\n",
            "241/241 [==============================] - 0s 2ms/step - loss: 0.7409 - accuracy: 0.8794 - val_loss: 0.6964 - val_accuracy: 0.8465\n",
            "Epoch 6/20\n",
            "241/241 [==============================] - 0s 2ms/step - loss: 0.5954 - accuracy: 0.9075 - val_loss: 0.5817 - val_accuracy: 0.8631\n",
            "Epoch 7/20\n",
            "241/241 [==============================] - 0s 2ms/step - loss: 0.4968 - accuracy: 0.9085 - val_loss: 0.5257 - val_accuracy: 0.8755\n",
            "Epoch 8/20\n",
            "241/241 [==============================] - 0s 2ms/step - loss: 0.4244 - accuracy: 0.9262 - val_loss: 0.4779 - val_accuracy: 0.8755\n",
            "Epoch 9/20\n",
            "241/241 [==============================] - 0s 2ms/step - loss: 0.3779 - accuracy: 0.9283 - val_loss: 0.4249 - val_accuracy: 0.8672\n",
            "Epoch 10/20\n",
            "241/241 [==============================] - 0s 2ms/step - loss: 0.3337 - accuracy: 0.9387 - val_loss: 0.4016 - val_accuracy: 0.8880\n",
            "Epoch 11/20\n",
            "241/241 [==============================] - 0s 2ms/step - loss: 0.3012 - accuracy: 0.9439 - val_loss: 0.3653 - val_accuracy: 0.8880\n",
            "Epoch 12/20\n",
            "241/241 [==============================] - 0s 2ms/step - loss: 0.2732 - accuracy: 0.9459 - val_loss: 0.3451 - val_accuracy: 0.8963\n",
            "Epoch 13/20\n",
            "241/241 [==============================] - 0s 2ms/step - loss: 0.2506 - accuracy: 0.9449 - val_loss: 0.3242 - val_accuracy: 0.8921\n",
            "Epoch 14/20\n",
            "241/241 [==============================] - 0s 2ms/step - loss: 0.2332 - accuracy: 0.9501 - val_loss: 0.3063 - val_accuracy: 0.9129\n",
            "Epoch 15/20\n",
            "241/241 [==============================] - 0s 2ms/step - loss: 0.2172 - accuracy: 0.9522 - val_loss: 0.2898 - val_accuracy: 0.9253\n",
            "Epoch 16/20\n",
            "241/241 [==============================] - 0s 2ms/step - loss: 0.2018 - accuracy: 0.9574 - val_loss: 0.2956 - val_accuracy: 0.9212\n",
            "Epoch 17/20\n",
            "241/241 [==============================] - 0s 2ms/step - loss: 0.1882 - accuracy: 0.9636 - val_loss: 0.2865 - val_accuracy: 0.9170\n",
            "Epoch 18/20\n",
            "241/241 [==============================] - 0s 2ms/step - loss: 0.1776 - accuracy: 0.9657 - val_loss: 0.2675 - val_accuracy: 0.9253\n",
            "Epoch 19/20\n",
            "241/241 [==============================] - 0s 2ms/step - loss: 0.1668 - accuracy: 0.9657 - val_loss: 0.2607 - val_accuracy: 0.9212\n",
            "Epoch 20/20\n",
            "241/241 [==============================] - 0s 2ms/step - loss: 0.1572 - accuracy: 0.9657 - val_loss: 0.2556 - val_accuracy: 0.9253\n"
          ]
        }
      ]
    },
    {
      "cell_type": "code",
      "source": [
        "NN.evaluate(X_test,y_test)"
      ],
      "metadata": {
        "colab": {
          "base_uri": "https://localhost:8080/"
        },
        "id": "8YL3Z0ulsVEC",
        "outputId": "542959f2-15ad-4e0f-bc75-fd45859ce24a"
      },
      "execution_count": null,
      "outputs": [
        {
          "output_type": "stream",
          "name": "stdout",
          "text": [
            "19/19 [==============================] - 0s 1ms/step - loss: 0.2084 - accuracy: 0.9360\n"
          ]
        },
        {
          "output_type": "execute_result",
          "data": {
            "text/plain": [
              "[0.20836979150772095, 0.936026930809021]"
            ]
          },
          "metadata": {},
          "execution_count": 24
        }
      ]
    },
    {
      "cell_type": "code",
      "source": [
        "NN.predict(X_test)"
      ],
      "metadata": {
        "colab": {
          "base_uri": "https://localhost:8080/"
        },
        "id": "K7vwu8nAsc5s",
        "outputId": "e8229729-fb53-4d52-f208-effad697554b"
      },
      "execution_count": null,
      "outputs": [
        {
          "output_type": "execute_result",
          "data": {
            "text/plain": [
              "array([[1.2139801e-03, 3.2506467e-04, 2.5285814e-05, ..., 4.3911546e-06,\n",
              "        4.2073675e-03, 9.5811389e-05],\n",
              "       [2.3034168e-03, 5.6759636e-05, 3.7540955e-05, ..., 1.7924970e-03,\n",
              "        1.2193084e-02, 9.2404711e-01],\n",
              "       [2.5530187e-07, 3.9155679e-05, 1.6002224e-03, ..., 2.1001342e-05,\n",
              "        3.4352480e-03, 3.6535172e-03],\n",
              "       ...,\n",
              "       [1.7098264e-03, 1.0533377e-04, 4.3138837e-08, ..., 8.5094689e-05,\n",
              "        2.0953614e-04, 8.3670017e-07],\n",
              "       [5.1966304e-04, 3.6594833e-05, 1.3672932e-04, ..., 1.5136620e-04,\n",
              "        1.4804853e-02, 9.5098370e-01],\n",
              "       [9.8988181e-01, 7.8769932e-07, 9.0355711e-04, ..., 3.1337207e-05,\n",
              "        4.1828495e-03, 3.4543793e-03]], dtype=float32)"
            ]
          },
          "metadata": {},
          "execution_count": 25
        }
      ]
    },
    {
      "cell_type": "code",
      "source": [
        "import numpy as np\n",
        "import tensorflow as tf\n",
        "\n",
        "\n",
        "y_predicted = NN.predict(X_test)\n",
        "y_predicted_labels = [np.argmax(i) for i in y_predicted]\n",
        "\n",
        "cm = tf.math.confusion_matrix(labels=y_test, predictions=y_predicted_labels)\n",
        "\n",
        "import seaborn as sn\n",
        "plt.figure(figsize = (10,7))\n",
        "sn.heatmap(cm, annot=True, fmt='d')\n",
        "plt.xlabel('Predicted')\n",
        "plt.ylabel('Truth')"
      ],
      "metadata": {
        "colab": {
          "base_uri": "https://localhost:8080/",
          "height": 459
        },
        "id": "sb-Ye0opxGdy",
        "outputId": "510319ba-1101-48b7-f0d4-e813f914cd34"
      },
      "execution_count": null,
      "outputs": [
        {
          "output_type": "execute_result",
          "data": {
            "text/plain": [
              "Text(69.0, 0.5, 'Truth')"
            ]
          },
          "metadata": {},
          "execution_count": 28
        },
        {
          "output_type": "display_data",
          "data": {
            "text/plain": [
              "<Figure size 720x504 with 2 Axes>"
            ],
            "image/png": "[encoded data removed]"
          },
          "metadata": {
            "needs_background": "light"
          }
        }
      ]
    }
  ]
}